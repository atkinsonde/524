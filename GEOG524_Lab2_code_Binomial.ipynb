{
  "nbformat": 4,
  "nbformat_minor": 0,
  "metadata": {
    "colab": {
      "provenance": [],
      "authorship_tag": "ABX9TyMkx4A9/aL70314tFnHrR/+",
      "include_colab_link": true
    },
    "kernelspec": {
      "name": "python3",
      "display_name": "Python 3"
    },
    "language_info": {
      "name": "python"
    }
  },
  "cells": [
    {
      "cell_type": "markdown",
      "metadata": {
        "id": "view-in-github",
        "colab_type": "text"
      },
      "source": [
        "<a href=\"https://colab.research.google.com/github/atkinsonde/524/blob/main/GEOG524_Lab2_code_Binomial.ipynb\" target=\"_parent\"><img src=\"https://colab.research.google.com/assets/colab-badge.svg\" alt=\"Open In Colab\"/></a>"
      ]
    },
    {
      "cell_type": "code",
      "execution_count": null,
      "metadata": {
        "id": "sXazsoIRBGcL"
      },
      "outputs": [],
      "source": [
        "import pandas\n",
        "df = pandas.read_csv('1871433.csv',\n",
        "                         usecols=[\"DATE\",\"PRCP\",\"SNOW\",\"SNWD\",\"TMAX\",\"TMIN\"],\n",
        "                         parse_dates=[\"DATE\"]).set_index(\"DATE\")"
      ]
    },
    {
      "cell_type": "code",
      "source": [
        "# determine if a given year has any occurrences that satisfy the condition\n",
        "mask = pd.DataFrame(df[\"TMIN\"]<-25).resample(\"Y\").max()\n"
      ],
      "metadata": {
        "id": "-P1YupVtBLuo"
      },
      "execution_count": null,
      "outputs": []
    },
    {
      "cell_type": "code",
      "source": [
        "# isolate years that have some minimum number of observations per year\n",
        "full_years_TMIN = pd.DataFrame(df[\"TMIN\"].resample(\"Y\").count()>350)\n"
      ],
      "metadata": {
        "id": "dDJLvKGzBNpe"
      },
      "execution_count": null,
      "outputs": []
    },
    {
      "cell_type": "code",
      "source": [
        "# pull out only the year identifiers that meet the threshold\n",
        "fyt = full_years_TMIN[full_years_TMIN[\"TMIN\"]==True].drop(\"TMIN\")"
      ],
      "metadata": {
        "id": "u3Un5KMZBPow"
      },
      "execution_count": null,
      "outputs": []
    },
    {
      "cell_type": "code",
      "source": [
        "# merge the occurrence data with the reduced year set\n",
        "year_counts = fyt.drop(\"TMIN\",axis=1).join(mask,how=\"left\")"
      ],
      "metadata": {
        "id": "RUnx_HZJBRe-"
      },
      "execution_count": null,
      "outputs": []
    },
    {
      "cell_type": "code",
      "source": [
        "# Determine probability that an event occurs in a given year\n",
        "P = year_counts[\"TMIN\"].sum()/len(year_counts)"
      ],
      "metadata": {
        "id": "3p-xvFxiBT04"
      },
      "execution_count": null,
      "outputs": []
    },
    {
      "cell_type": "markdown",
      "source": [
        "Want to know probability of getting x cold winters in a N year period"
      ],
      "metadata": {
        "id": "QLtLe6elBW8g"
      }
    },
    {
      "cell_type": "code",
      "source": [
        "import scipy.misc as sm\n",
        "\n",
        "#set our parameters\n",
        "N = 10\n",
        "x = 2"
      ],
      "metadata": {
        "id": "5GMFCHR3BcAH"
      },
      "execution_count": null,
      "outputs": []
    },
    {
      "cell_type": "markdown",
      "source": [
        "Code the function ourselves"
      ],
      "metadata": {
        "id": "aiXKvXzHBqeQ"
      }
    },
    {
      "cell_type": "code",
      "source": [
        "sm.comb(N,x)*P**x*(1-P)**(N-x)"
      ],
      "metadata": {
        "id": "OvO8_nWABmoW"
      },
      "execution_count": null,
      "outputs": []
    },
    {
      "cell_type": "code",
      "source": [
        "# range of values, plot, title\n",
        "xr = range(0,10)\n",
        "\n"
      ],
      "metadata": {
        "id": "5nmS9Eu-BuZg"
      },
      "execution_count": null,
      "outputs": []
    },
    {
      "cell_type": "code",
      "source": [
        "import scipy.stats as ss # note a different submodule in scipy\n",
        "pd.DataFrame(ss.binom.pmf(xr, N, P)).plot(title='10 years, P=.17') "
      ],
      "metadata": {
        "id": "H3Jfg27oB1NX"
      },
      "execution_count": null,
      "outputs": []
    }
  ]
}