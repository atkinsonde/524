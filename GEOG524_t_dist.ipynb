{
  "nbformat": 4,
  "nbformat_minor": 0,
  "metadata": {
    "colab": {
      "provenance": [],
      "authorship_tag": "ABX9TyORHlmKNQVDVIjvd03QI8cm",
      "include_colab_link": true
    },
    "kernelspec": {
      "name": "python3",
      "display_name": "Python 3"
    },
    "language_info": {
      "name": "python"
    }
  },
  "cells": [
    {
      "cell_type": "markdown",
      "metadata": {
        "id": "view-in-github",
        "colab_type": "text"
      },
      "source": [
        "<a href=\"https://colab.research.google.com/github/atkinsonde/524/blob/main/GEOG524_t_dist.ipynb\" target=\"_parent\"><img src=\"https://colab.research.google.com/assets/colab-badge.svg\" alt=\"Open In Colab\"/></a>"
      ]
    },
    {
      "cell_type": "code",
      "execution_count": 1,
      "metadata": {
        "colab": {
          "base_uri": "https://localhost:8080/"
        },
        "id": "Yzm2BhZxnp8v",
        "outputId": "c9bbab16-b6ad-4abf-c6ec-cf3f25c84cc0"
      },
      "outputs": [
        {
          "output_type": "stream",
          "name": "stdout",
          "text": [
            "Cloning into '524'...\n",
            "remote: Enumerating objects: 36, done.\u001b[K\n",
            "remote: Counting objects: 100% (36/36), done.\u001b[K\n",
            "remote: Compressing objects: 100% (34/34), done.\u001b[K\n",
            "remote: Total 36 (delta 14), reused 0 (delta 0), pack-reused 0\u001b[K\n",
            "Unpacking objects: 100% (36/36), done.\n"
          ]
        }
      ],
      "source": [
        "# !git clone https://github.com/atkinsonde/524.git"
      ]
    },
    {
      "cell_type": "code",
      "source": [
        "\"\"\"\n",
        "Build the t-statistic distribution\n",
        "\n",
        "Stages:\n",
        "    > establish random sampling from a population distribution of known mu\n",
        "        - set sample size\n",
        "    > calculate mean, stdev\n",
        "    > determin t statistic\n",
        "    > store t value \n",
        "    > repeat\n",
        "    > plot the collection of t values for a given sample size\n",
        "\n",
        "\"\"\""
      ],
      "metadata": {
        "id": "rtjPdyTmoGJ5"
      },
      "execution_count": null,
      "outputs": []
    },
    {
      "cell_type": "code",
      "source": [
        "def return_t(sample_size=sample_size,mu=mu, repeats=repeats):\n",
        "    t_vals = []\n",
        "    for cnt in range(1,repeats+1):\n",
        "        print(cnt)\n",
        "        pull_set = np.random.normal(loc=0,scale=1,size=sample_size)\n",
        "        t = (np.mean(pull_set)-mu) / (np.std(pull_set)/np.sqrt(np.ndim(pull_set)))\n",
        "        t_vals.append(t)\n",
        "    return t_vals"
      ],
      "metadata": {
        "id": "bkfWCrYBof7j"
      },
      "execution_count": 36,
      "outputs": []
    },
    {
      "cell_type": "code",
      "source": [
        "import numpy as np\n",
        "import matplotlib.pyplot as plt"
      ],
      "metadata": {
        "id": "liFX8YK3pX6E"
      },
      "execution_count": 37,
      "outputs": []
    },
    {
      "cell_type": "code",
      "source": [
        "sample_size = 50\n",
        "repeats = 20\n",
        "mu=0"
      ],
      "metadata": {
        "id": "G4edmyIqoLU6"
      },
      "execution_count": 40,
      "outputs": []
    },
    {
      "cell_type": "markdown",
      "source": [
        "### NOTE issue of behaviour - must redefine the function otherwise it holds onto previous values."
      ],
      "metadata": {
        "id": "4hrLkIz1rs6V"
      }
    },
    {
      "cell_type": "code",
      "source": [
        "# Run the function we defined and capture the output\n",
        "tv = return_t()\n",
        "\n",
        "# plot a histogram. Define the raw figure space and then populate it with a histogram\n",
        "fig=plt.figure()\n",
        "plt.hist(tv,density=True,bins=51)\n"
      ],
      "metadata": {
        "colab": {
          "base_uri": "https://localhost:8080/",
          "height": 734
        },
        "id": "7erRms6DoiCy",
        "outputId": "b78cb495-2bbb-413d-8e35-01d809c1582a"
      },
      "execution_count": 41,
      "outputs": [
        {
          "output_type": "stream",
          "name": "stdout",
          "text": [
            "1\n",
            "2\n"
          ]
        },
        {
          "output_type": "execute_result",
          "data": {
            "text/plain": [
              "(array([163.73264181,   0.        ,   0.        ,   0.        ,\n",
              "          0.        ,   0.        ,   0.        ,   0.        ,\n",
              "          0.        ,   0.        ,   0.        ,   0.        ,\n",
              "          0.        ,   0.        ,   0.        ,   0.        ,\n",
              "          0.        ,   0.        ,   0.        ,   0.        ,\n",
              "          0.        ,   0.        ,   0.        ,   0.        ,\n",
              "          0.        ,   0.        ,   0.        ,   0.        ,\n",
              "          0.        ,   0.        ,   0.        ,   0.        ,\n",
              "          0.        ,   0.        ,   0.        ,   0.        ,\n",
              "          0.        ,   0.        ,   0.        ,   0.        ,\n",
              "          0.        ,   0.        ,   0.        ,   0.        ,\n",
              "          0.        ,   0.        ,   0.        ,   0.        ,\n",
              "          0.        ,   0.        , 163.73264181]),\n",
              " array([-0.0798611 , -0.07680734, -0.07375358, -0.07069982, -0.06764606,\n",
              "        -0.06459231, -0.06153855, -0.05848479, -0.05543103, -0.05237727,\n",
              "        -0.04932351, -0.04626975, -0.04321599, -0.04016224, -0.03710848,\n",
              "        -0.03405472, -0.03100096, -0.0279472 , -0.02489344, -0.02183968,\n",
              "        -0.01878592, -0.01573216, -0.01267841, -0.00962465, -0.00657089,\n",
              "        -0.00351713, -0.00046337,  0.00259039,  0.00564415,  0.00869791,\n",
              "         0.01175166,  0.01480542,  0.01785918,  0.02091294,  0.0239667 ,\n",
              "         0.02702046,  0.03007422,  0.03312798,  0.03618174,  0.03923549,\n",
              "         0.04228925,  0.04534301,  0.04839677,  0.05145053,  0.05450429,\n",
              "         0.05755805,  0.06061181,  0.06366556,  0.06671932,  0.06977308,\n",
              "         0.07282684,  0.0758806 ]),\n",
              " <a list of 51 Patch objects>)"
            ]
          },
          "metadata": {},
          "execution_count": 41
        },
        {
          "output_type": "display_data",
          "data": {
            "text/plain": [
              "<Figure size 432x288 with 1 Axes>"
            ],
            "image/png": "[encoded data removed]"
          },
          "metadata": {
            "needs_background": "light"
          }
        }
      ]
    }
  ]
}